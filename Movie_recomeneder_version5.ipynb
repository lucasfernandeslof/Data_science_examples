{
 "cells": [
  {
   "cell_type": "markdown",
   "id": "f850c8a3-de72-40dc-aa32-d09efbc1cb11",
   "metadata": {},
   "source": [
    "# Movie Recommendation Engine\n",
    "##### Description: This project is a demonstration of the use of recommendation models, applied to film selection. We will mainly use the collaborative recommendation, the one where we look for similar profiles to recommend a movie.\n",
    "\n",
    "##### Data: Dataset was extracted from Movie lens. A database of user-given movies and ratings of approximately 100,000 ratings\n",
    "\n",
    "###### Autor: Lucas Fernandes"
   ]
  },
  {
   "cell_type": "markdown",
   "id": "c6bc8046-164b-4e6f-89f2-92d91260aa71",
   "metadata": {},
   "source": [
    "### 0 - installing packages that will be used"
   ]
  },
  {
   "cell_type": "code",
   "execution_count": 1,
   "id": "e3022d92-fa15-4344-b7e3-afbe8e4d6b84",
   "metadata": {},
   "outputs": [],
   "source": [
    "## In this case, no new packeges are needed"
   ]
  },
  {
   "cell_type": "markdown",
   "id": "9b826081-fd8f-4b4f-85b8-8c017d0d7682",
   "metadata": {},
   "source": [
    "### 1 - importing the libraries"
   ]
  },
  {
   "cell_type": "code",
   "execution_count": 2,
   "id": "e75d35ba-3f08-45b4-9622-53936305655d",
   "metadata": {},
   "outputs": [],
   "source": [
    "#The Libraries that we will work with\n",
    "import pandas as pd\n",
    "import numpy as np\n",
    "\n",
    "import seaborn as sns\n",
    "%matplotlib inline\n",
    "from matplotlib import pyplot as plt\n",
    "\n",
    "from datetime import date\n",
    "\n",
    "import warnings\n",
    "warnings.simplefilter(\"ignore\")"
   ]
  },
  {
   "cell_type": "markdown",
   "id": "f7c651c8-f19c-4ed7-abf4-799e9d35f2e6",
   "metadata": {},
   "source": [
    "### 2 - Loading data from movie lens"
   ]
  },
  {
   "cell_type": "markdown",
   "id": "c2dd2502-3397-4389-9620-0ced886f44ee",
   "metadata": {},
   "source": [
    "##### Loading Movies IDs"
   ]
  },
  {
   "cell_type": "code",
   "execution_count": 3,
   "id": "6b08e15b-a1f4-48f1-87d5-68008276b176",
   "metadata": {},
   "outputs": [],
   "source": [
    "#Local of the file:\n",
    "\n",
    "#smaller Data Set\n",
    "filelocation = r'C:\\Users\\55119\\Documents\\Lucas - Minhas Pastas\\Alura\\Algoritimo de Recomentação\\ml-latest-small\\ml-latest-small\\movies.csv'\n",
    "\n",
    "#file Location for a Bigger data\n",
    "#filelocation = r'C:\\Users\\55119\\Documents\\Lucas - Minhas Pastas\\Alura\\Algoritimo de Recomentação\\ml-latest\\ml-latest\\movies.csv'"
   ]
  },
  {
   "cell_type": "code",
   "execution_count": 4,
   "id": "a96490a1-f4ec-4ab3-9275-50937ca03aac",
   "metadata": {},
   "outputs": [
    {
     "name": "stdout",
     "output_type": "stream",
     "text": [
      "______________Data set head is:___________\n",
      "   movieId             title                                       genres\n",
      "0        1  Toy Story (1995)  Adventure|Animation|Children|Comedy|Fantasy\n",
      "1        2    Jumanji (1995)                   Adventure|Children|Fantasy\n",
      "______________The number of col, and lines in the data set is: (9742, 3)\n",
      "______________the numeber of null values in the data is: 0\n",
      "______________Data Type in the data set__________\n",
      "movieId     int64\n",
      "title      object\n",
      "genres     object\n",
      "dtype: object\n"
     ]
    }
   ],
   "source": [
    "#loading and analysing the data set inicial parameters:\n",
    "data = pd.read_csv(filelocation)\n",
    "print('______________Data set head is:___________')\n",
    "print(data.head(2))\n",
    "print('______________The number of col, and lines in the data set is:',data.shape)\n",
    "print('______________the numeber of null values in the data is:',data.isna().sum().sum())\n",
    "print('______________Data Type in the data set__________')\n",
    "print(data.dtypes)\n",
    "\n",
    "\n",
    "#renaming the data\n",
    "movies_ids = data"
   ]
  },
  {
   "cell_type": "code",
   "execution_count": 5,
   "id": "684874e6-f910-44d6-842f-4ed38dedf725",
   "metadata": {},
   "outputs": [],
   "source": [
    "movies_ids.set_index('movieId',inplace=True)"
   ]
  },
  {
   "cell_type": "markdown",
   "id": "4f5d7f38-cb6e-47d2-a41f-e4b1e66dd118",
   "metadata": {},
   "source": [
    "##### Loading User Ratings"
   ]
  },
  {
   "cell_type": "code",
   "execution_count": 6,
   "id": "59618de0-e807-49b1-9116-47c76298071a",
   "metadata": {},
   "outputs": [],
   "source": [
    "#Local of the file:\n",
    "\n",
    "#smaller Data Set\n",
    "filelocation = r'C:\\Users\\55119\\Documents\\Lucas - Minhas Pastas\\Alura\\Algoritimo de Recomentação\\ml-latest-small\\ml-latest-small\\ratings.csv'\n",
    "\n",
    "#biger data set\n",
    "#filelocation = r'C:\\Users\\55119\\Documents\\Lucas - Minhas Pastas\\Alura\\Algoritimo de Recomentação\\ml-latest\\ml-latest\\ratings.csv'"
   ]
  },
  {
   "cell_type": "code",
   "execution_count": 7,
   "id": "9a34b7e2-a595-484a-8718-23f110cffd36",
   "metadata": {},
   "outputs": [
    {
     "name": "stdout",
     "output_type": "stream",
     "text": [
      "______________Data set head is:___________\n",
      "   userId  movieId  rating  timestamp\n",
      "0       1        1     4.0  964982703\n",
      "1       1        3     4.0  964981247\n",
      "______________The number of col, and lines in the data set is: (100836, 4)\n",
      "______________the numeber of null values in the data is: 0\n",
      "______________Data Type in the data set__________\n",
      "userId         int64\n",
      "movieId        int64\n",
      "rating       float64\n",
      "timestamp      int64\n",
      "dtype: object\n"
     ]
    }
   ],
   "source": [
    "#loading and analysing the data set inicial parameters:\n",
    "data = pd.read_csv(filelocation)\n",
    "print('______________Data set head is:___________')\n",
    "print(data.head(2))\n",
    "print('______________The number of col, and lines in the data set is:',data.shape)\n",
    "print('______________the numeber of null values in the data is:',data.isna().sum().sum())\n",
    "print('______________Data Type in the data set__________')\n",
    "print(data.dtypes)\n",
    "\n",
    "\n",
    "#renaming the data\n",
    "ratings = data"
   ]
  },
  {
   "cell_type": "code",
   "execution_count": 8,
   "id": "a3c152fe-e1da-4a9c-a8f9-75c75e0de23e",
   "metadata": {},
   "outputs": [],
   "source": [
    "#ratings.userId.unique()"
   ]
  },
  {
   "cell_type": "markdown",
   "id": "65397b92-597b-4029-8a9c-9ef14954500e",
   "metadata": {},
   "source": [
    "### 3 - Using the k-nearest neighbors algorithm to define distance between users"
   ]
  },
  {
   "cell_type": "markdown",
   "id": "6df400f9-63db-45f1-b3d0-902de6304c9e",
   "metadata": {},
   "source": [
    "#### 3.1 - extracting notes per user in numpy format"
   ]
  },
  {
   "cell_type": "code",
   "execution_count": 9,
   "id": "e1ad713e-7441-4ff1-9cf9-cd6dfbcda017",
   "metadata": {},
   "outputs": [],
   "source": [
    "#defining a routine to seach the rate by each user\n",
    "def user_rating ( user ):\n",
    "    \n",
    "    # Seaching using the query, all the rates the user had given in the dataset\n",
    "    rate_by_user = ratings.query('userId==%d' % user)\n",
    "    \n",
    "    #dropping the collums we dont need\n",
    "    rate_by_user.drop(columns = ['userId', 'timestamp'], inplace= True)\n",
    "    \n",
    "    #setting the new Index\n",
    "    rate_by_user.set_index('movieId', inplace= True)\n",
    "    \n",
    "    return rate_by_user"
   ]
  },
  {
   "cell_type": "markdown",
   "id": "29548652-b19d-4ced-a7e5-21cc3331d126",
   "metadata": {},
   "source": [
    "#### 3.2 - Defining the distance between vectors"
   ]
  },
  {
   "cell_type": "code",
   "execution_count": 10,
   "id": "45e6e5e5-473f-4be5-8f42-9f3e4b91439d",
   "metadata": {},
   "outputs": [],
   "source": [
    "def distance_vectors (vector1, vector2):\n",
    "    #using the linalg.norm to calculate de distance between the 2 vectors (using sqrt(x^2+y^2))\n",
    "    distance = np.linalg.norm(vector1 - vector2)\n",
    "    return distance"
   ]
  },
  {
   "cell_type": "markdown",
   "id": "f0c5b99a-eb1f-4a11-87eb-a48799aea67a",
   "metadata": {},
   "source": [
    "#### 3.3- Defining the distance between users"
   ]
  },
  {
   "cell_type": "code",
   "execution_count": 11,
   "id": "6adc1e61-8487-4c73-89f8-8a5185494564",
   "metadata": {},
   "outputs": [],
   "source": [
    "def distance_users(userid1,userid2,min_length = 5):\n",
    "    \n",
    "    #using the first routine to find the rates by users\n",
    "    user_rates1=user_rating(userid1)\n",
    "    user_rates2=user_rating(userid2)\n",
    "    \n",
    "    #joing the rates in the same DF, in this case we use Join because it already join using the right index\n",
    "    rates_vectors = user_rates1.join(user_rates2,lsuffix=\"_left\",rsuffix = '_right').dropna()\n",
    "    \n",
    "    if (len(rates_vectors) < min_length):\n",
    "        return [userid1, userid2, None]\n",
    "    \n",
    "    #using the distance_vector to calculate the distance between users\n",
    "    \n",
    "    distance_between_users = distance_vectors(rates_vectors.rating_left, rates_vectors.rating_right)\n",
    "    return [userid1, userid2, distance_between_users]\n",
    "    \n",
    "    "
   ]
  },
  {
   "cell_type": "markdown",
   "id": "01f3b4dd-4adc-45d3-aa73-2b977722eb2e",
   "metadata": {},
   "source": [
    "#### 3.4 - Definig distance between all users in the dataset\n"
   ]
  },
  {
   "cell_type": "code",
   "execution_count": 12,
   "id": "3f004581-71ad-48c5-922e-fa68acf4f78d",
   "metadata": {},
   "outputs": [],
   "source": [
    "#Creating a fuction to calculate the distance between a User an all our dataset:\n",
    "\n",
    "#defining the function\n",
    "def distance_between_all_users(compared_user,numberofuserscompared = None):\n",
    "    #creating the array NOTAS, it will be used to store the distances\n",
    "    distances=[]\n",
    "    \n",
    "    #creating the for to compare all the users with the one that we are looking for\n",
    "    for users in ratings.userId.unique()[:numberofuserscompared]:\n",
    "        result = distance_users(compared_user,users)\n",
    "        distances.append(result)\n",
    "        \n",
    "    distances = pd.DataFrame(distances, columns = ['UserId_original','UserId_compared','Distance'])\n",
    "    return distances\n"
   ]
  },
  {
   "cell_type": "code",
   "execution_count": 13,
   "id": "80a5f93f-08cc-4227-bc31-77c4e9cad079",
   "metadata": {},
   "outputs": [],
   "source": [
    "#distances = distance_between_all_users(1,20).dropna()\n",
    "#distances.head()\n"
   ]
  },
  {
   "cell_type": "markdown",
   "id": "4fd43e7f-1b51-465f-9f04-9cfc5980297f",
   "metadata": {},
   "source": [
    "#### 3.5 Creating a Function to find the nearest users froam a certain User"
   ]
  },
  {
   "cell_type": "code",
   "execution_count": 14,
   "id": "e2a6ae1f-cd71-4edd-b0cc-75c2f7a6645c",
   "metadata": {},
   "outputs": [],
   "source": [
    "def Nearests_from_user(user,numberofuserscompared = None, top_nearests = 10):\n",
    "    #Using the function to calculate the distance from the user to all the other users, it returns the nearest users from it.:\n",
    "    distances = distance_between_all_users(user,numberofuserscompared).dropna()\n",
    "    \n",
    "    #Sorting by the nearests:\n",
    "    distances.sort_values('Distance',inplace = True)\n",
    "    \n",
    "    #dropping the user row, we dont need to compare the user with itself\n",
    "    distances = distances.set_index('UserId_compared').drop(user)\n",
    "    \n",
    "    return distances.head(top_nearests)"
   ]
  },
  {
   "cell_type": "code",
   "execution_count": 15,
   "id": "0cc546a6-8fe1-446a-babc-a9a86938599d",
   "metadata": {},
   "outputs": [],
   "source": [
    "#example:\n",
    "#a = Nearests_from_user(610)\n",
    "#print(a)"
   ]
  },
  {
   "cell_type": "markdown",
   "id": "f9766154-601c-436f-af77-e28ed0bf02cc",
   "metadata": {},
   "source": [
    "#### 3.6 suggesting movies based on closest users (k-nearest)"
   ]
  },
  {
   "cell_type": "code",
   "execution_count": 16,
   "id": "d2e52ec3-7629-4f26-b6af-1a5ea2620ab6",
   "metadata": {},
   "outputs": [],
   "source": [
    "##defining a Fuction to search the nearests users from a certain one, and suggest the movies that the nearest users like the most.\n",
    "#def suggested_movies(user_to_suggest,numberofuserscompared = None,top_nearests = 10):\n",
    "\n",
    "#    user_test = user_to_suggest\n",
    "#\n",
    "#    #getting the user ratting:\n",
    "#    user_ratting = user_rating(user_test)\n",
    "#\n",
    "#    Nearest = Nearests_from_user(user_test,numberofuserscompared,top_nearests)\n",
    "#    #trazendo os valores mias proximos\n",
    "#    print(f'The users_id most near from the user {user_test} is {Nearest.iloc[1].name}, Distance = {Nearest.iloc[1].Distance}')\n",
    "#\n",
    "#    #pegando as notas do usuário mais similar:\n",
    "#    rating_similar = user_rating(Nearest.iloc[0].name)\n",
    "#\n",
    "#    #taking off the movies that the original user had already seen:\n",
    "#    rating_similar = rating_similar.drop(user_ratting.index, errors = 'ignore')\n",
    "#\n",
    "#    #sorting by the hights rates to the smallest\n",
    "#    rating_similar = rating_similar.sort_values('rating' ,ascending= False )\n",
    "#\n",
    "#    #Addind the movie names:\n",
    "#    rating_similar = rating_similar.join(movies_ids)\n",
    "#    rating_similar.dropna(inplace = True)\n",
    "#    return(rating_similar)"
   ]
  },
  {
   "cell_type": "code",
   "execution_count": 17,
   "id": "046c53bd-0ceb-462b-be0e-fb4f0309b84a",
   "metadata": {},
   "outputs": [],
   "source": [
    "#a = suggested_movies(100)"
   ]
  },
  {
   "cell_type": "code",
   "execution_count": 18,
   "id": "6180f5e3-0de0-4bd8-82a9-b4af55dc1472",
   "metadata": {},
   "outputs": [],
   "source": [
    "#a.head(15)"
   ]
  },
  {
   "cell_type": "code",
   "execution_count": null,
   "id": "5882c361-678a-4608-9e81-d99050216b3c",
   "metadata": {},
   "outputs": [],
   "source": []
  },
  {
   "cell_type": "code",
   "execution_count": 19,
   "id": "83408ce8-67f9-4b29-b79c-85254b240ec6",
   "metadata": {},
   "outputs": [],
   "source": [
    "##defining a Fuction to search the nearests users from a certain one, and suggest the movies that the nearest users like the most.\n",
    "def suggested_moviesv02(user_to_suggest,numberofuserscompared = None ,top_nearests = 10):\n",
    "    user_test = user_to_suggest\n",
    "\n",
    "    #getting the user_original ratting:\n",
    "    user_ratting = user_rating(user_test)\n",
    "\n",
    "    #calculating the nearests users:\n",
    "    Nearest = Nearests_from_user(user_test,numberofuserscompared,top_nearests)\n",
    "\n",
    "    #Printing the answer:\n",
    "    print(f'The users_id most near from the user {user_test} is {Nearest.index}, Distance = {Nearest.Distance}')\n",
    "\n",
    "    Near_usersid_from_user_tested = Nearest.index\n",
    "    Near_usersid_from_user_tested\n",
    "\n",
    "    #Getting the movies seen by near users from the data set (movies)\n",
    "    ratings_by_nearest_users = ratings.set_index('userId').loc[Near_usersid_from_user_tested]\n",
    "\n",
    "    #Grouping the moviest by their ID, and the rating score mean:\n",
    "    mean_ratings_by_nearest_users = ratings_by_nearest_users.groupby('movieId').mean()[['rating']]\n",
    "\n",
    "    #We would like to filter if only a certain number of people has seen the movies, so we will count the number of movie watched:\n",
    "    count_ratings_by_nearest_users = ratings_by_nearest_users.groupby('movieId').count()[['rating']]\n",
    "    \n",
    "    #adding couting in the mean\n",
    "    \n",
    "    mean_ratings_by_nearest_users = mean_ratings_by_nearest_users.join(count_ratings_by_nearest_users, lsuffix = '_means', rsuffix = '_counts')\n",
    "    \n",
    "    #filtering only movies with more than certain amount of votes\n",
    "    minimum_filter = top_nearests/2\n",
    "    \n",
    "    mean_ratings_by_nearest_users = mean_ratings_by_nearest_users.query('rating_counts >= %.2f' % minimum_filter)\n",
    "    \n",
    "    #sorting by Rates\n",
    "    mean_ratings_by_nearest_users.sort_values('rating_means', ascending = False,inplace = True)\n",
    "\n",
    "    #best movie to be suggested:\n",
    "    suggested_movies = mean_ratings_by_nearest_users.join(movies_ids).head(5)\n",
    "\n",
    "    #printing the result:\n",
    "    return (suggested_movies)\n"
   ]
  },
  {
   "cell_type": "code",
   "execution_count": 20,
   "id": "743270b3-1b9c-44eb-9299-4a12b9498626",
   "metadata": {},
   "outputs": [
    {
     "name": "stdout",
     "output_type": "stream",
     "text": [
      "The users_id most near from the user 152 is Int64Index([286, 285, 557, 242, 587, 142, 5, 227, 446, 565], dtype='int64', name='UserId_compared'), Distance = UserId_compared\n",
      "286    1.118034\n",
      "285    1.224745\n",
      "557    1.224745\n",
      "242    1.322876\n",
      "587    1.322876\n",
      "142    1.414214\n",
      "5      1.414214\n",
      "227    1.414214\n",
      "446    1.414214\n",
      "565    1.414214\n",
      "Name: Distance, dtype: float64\n"
     ]
    },
    {
     "data": {
      "text/html": [
       "<div>\n",
       "<style scoped>\n",
       "    .dataframe tbody tr th:only-of-type {\n",
       "        vertical-align: middle;\n",
       "    }\n",
       "\n",
       "    .dataframe tbody tr th {\n",
       "        vertical-align: top;\n",
       "    }\n",
       "\n",
       "    .dataframe thead th {\n",
       "        text-align: right;\n",
       "    }\n",
       "</style>\n",
       "<table border=\"1\" class=\"dataframe\">\n",
       "  <thead>\n",
       "    <tr style=\"text-align: right;\">\n",
       "      <th></th>\n",
       "      <th>rating_means</th>\n",
       "      <th>rating_counts</th>\n",
       "      <th>title</th>\n",
       "      <th>genres</th>\n",
       "    </tr>\n",
       "    <tr>\n",
       "      <th>movieId</th>\n",
       "      <th></th>\n",
       "      <th></th>\n",
       "      <th></th>\n",
       "      <th></th>\n",
       "    </tr>\n",
       "  </thead>\n",
       "  <tbody>\n",
       "    <tr>\n",
       "      <th>296</th>\n",
       "      <td>4.722222</td>\n",
       "      <td>9</td>\n",
       "      <td>Pulp Fiction (1994)</td>\n",
       "      <td>Comedy|Crime|Drama|Thriller</td>\n",
       "    </tr>\n",
       "    <tr>\n",
       "      <th>593</th>\n",
       "      <td>4.700000</td>\n",
       "      <td>5</td>\n",
       "      <td>Silence of the Lambs, The (1991)</td>\n",
       "      <td>Crime|Horror|Thriller</td>\n",
       "    </tr>\n",
       "    <tr>\n",
       "      <th>32</th>\n",
       "      <td>4.700000</td>\n",
       "      <td>5</td>\n",
       "      <td>Twelve Monkeys (a.k.a. 12 Monkeys) (1995)</td>\n",
       "      <td>Mystery|Sci-Fi|Thriller</td>\n",
       "    </tr>\n",
       "    <tr>\n",
       "      <th>50</th>\n",
       "      <td>4.600000</td>\n",
       "      <td>5</td>\n",
       "      <td>Usual Suspects, The (1995)</td>\n",
       "      <td>Crime|Mystery|Thriller</td>\n",
       "    </tr>\n",
       "    <tr>\n",
       "      <th>527</th>\n",
       "      <td>4.571429</td>\n",
       "      <td>7</td>\n",
       "      <td>Schindler's List (1993)</td>\n",
       "      <td>Drama|War</td>\n",
       "    </tr>\n",
       "  </tbody>\n",
       "</table>\n",
       "</div>"
      ],
      "text/plain": [
       "         rating_means  rating_counts  \\\n",
       "movieId                                \n",
       "296          4.722222              9   \n",
       "593          4.700000              5   \n",
       "32           4.700000              5   \n",
       "50           4.600000              5   \n",
       "527          4.571429              7   \n",
       "\n",
       "                                             title  \\\n",
       "movieId                                              \n",
       "296                            Pulp Fiction (1994)   \n",
       "593               Silence of the Lambs, The (1991)   \n",
       "32       Twelve Monkeys (a.k.a. 12 Monkeys) (1995)   \n",
       "50                      Usual Suspects, The (1995)   \n",
       "527                        Schindler's List (1993)   \n",
       "\n",
       "                              genres  \n",
       "movieId                               \n",
       "296      Comedy|Crime|Drama|Thriller  \n",
       "593            Crime|Horror|Thriller  \n",
       "32           Mystery|Sci-Fi|Thriller  \n",
       "50            Crime|Mystery|Thriller  \n",
       "527                        Drama|War  "
      ]
     },
     "execution_count": 20,
     "metadata": {},
     "output_type": "execute_result"
    }
   ],
   "source": [
    "suggested_moviesv02(152)"
   ]
  },
  {
   "cell_type": "markdown",
   "id": "cba32a21-095a-486d-9008-328c6c25e4f4",
   "metadata": {},
   "source": [
    "### 4 - Testing new Users"
   ]
  },
  {
   "cell_type": "code",
   "execution_count": 21,
   "id": "3c998e94-fe82-489c-8fc2-44e39305bdec",
   "metadata": {},
   "outputs": [],
   "source": [
    "#Defining new User:\n",
    "def new_user(data):\n",
    "    \n",
    "    #first: getting the number of the last UserId, and adding 1\n",
    "    new_user_Id = ratings['userId'].max()+1\n",
    "    #printing the response:\n",
    "    print(f\"The new user ID is: {new_user_Id} \")\n",
    "    \n",
    "    #creating the df from the new user ratting:\n",
    "    new_user_ratting = pd.DataFrame(data,columns = ['movieId','rating'])\n",
    "    \n",
    "    #creating the column UserId in this new Data Frame:\n",
    "    new_user_ratting['userId'] =   new_user_Id\n",
    "    \n",
    "    return pd.concat([ratings, new_user_ratting])\n",
    "    "
   ]
  },
  {
   "cell_type": "code",
   "execution_count": 22,
   "id": "35286e35-361e-4e7f-9196-fe6cf9258913",
   "metadata": {},
   "outputs": [],
   "source": [
    "#deffining a new user to test:\n",
    "lucasoliveiras = ([\n",
    "[55247,5], #into the wild - Rate: 5\n",
    "[356,5], #forrest gump - rate: 5\n",
    "[4886,5], #monstros SA - rate:5\n",
    "[4896,5], #Harry potter e a pedra filosofal rate:5\n",
    "[7153,5], #senhor do aneis o retorno do rei rate:5\n",
    "[1,5], #Toy Story rate:5\n",
    "])"
   ]
  },
  {
   "cell_type": "code",
   "execution_count": 23,
   "id": "52543eb3-75c5-4fd6-a177-a39927b6f9ac",
   "metadata": {},
   "outputs": [
    {
     "name": "stdout",
     "output_type": "stream",
     "text": [
      "The new user ID is: 611 \n"
     ]
    }
   ],
   "source": [
    "#calling a function to add my new user\n",
    "ratings = new_user(lucasoliveiras)"
   ]
  },
  {
   "cell_type": "code",
   "execution_count": 24,
   "id": "e6541bc3-3546-4d76-bbaa-9a7a7fc42ad7",
   "metadata": {},
   "outputs": [
    {
     "data": {
      "text/html": [
       "<div>\n",
       "<style scoped>\n",
       "    .dataframe tbody tr th:only-of-type {\n",
       "        vertical-align: middle;\n",
       "    }\n",
       "\n",
       "    .dataframe tbody tr th {\n",
       "        vertical-align: top;\n",
       "    }\n",
       "\n",
       "    .dataframe thead th {\n",
       "        text-align: right;\n",
       "    }\n",
       "</style>\n",
       "<table border=\"1\" class=\"dataframe\">\n",
       "  <thead>\n",
       "    <tr style=\"text-align: right;\">\n",
       "      <th></th>\n",
       "      <th>rating</th>\n",
       "      <th>title</th>\n",
       "      <th>genres</th>\n",
       "    </tr>\n",
       "    <tr>\n",
       "      <th>movieId</th>\n",
       "      <th></th>\n",
       "      <th></th>\n",
       "      <th></th>\n",
       "    </tr>\n",
       "  </thead>\n",
       "  <tbody>\n",
       "    <tr>\n",
       "      <th>55247</th>\n",
       "      <td>5.0</td>\n",
       "      <td>Into the Wild (2007)</td>\n",
       "      <td>Action|Adventure|Drama</td>\n",
       "    </tr>\n",
       "    <tr>\n",
       "      <th>356</th>\n",
       "      <td>5.0</td>\n",
       "      <td>Forrest Gump (1994)</td>\n",
       "      <td>Comedy|Drama|Romance|War</td>\n",
       "    </tr>\n",
       "    <tr>\n",
       "      <th>4886</th>\n",
       "      <td>5.0</td>\n",
       "      <td>Monsters, Inc. (2001)</td>\n",
       "      <td>Adventure|Animation|Children|Comedy|Fantasy</td>\n",
       "    </tr>\n",
       "    <tr>\n",
       "      <th>4896</th>\n",
       "      <td>5.0</td>\n",
       "      <td>Harry Potter and the Sorcerer's Stone (a.k.a. ...</td>\n",
       "      <td>Adventure|Children|Fantasy</td>\n",
       "    </tr>\n",
       "    <tr>\n",
       "      <th>7153</th>\n",
       "      <td>5.0</td>\n",
       "      <td>Lord of the Rings: The Return of the King, The...</td>\n",
       "      <td>Action|Adventure|Drama|Fantasy</td>\n",
       "    </tr>\n",
       "    <tr>\n",
       "      <th>1</th>\n",
       "      <td>5.0</td>\n",
       "      <td>Toy Story (1995)</td>\n",
       "      <td>Adventure|Animation|Children|Comedy|Fantasy</td>\n",
       "    </tr>\n",
       "  </tbody>\n",
       "</table>\n",
       "</div>"
      ],
      "text/plain": [
       "         rating                                              title  \\\n",
       "movieId                                                              \n",
       "55247       5.0                               Into the Wild (2007)   \n",
       "356         5.0                                Forrest Gump (1994)   \n",
       "4886        5.0                              Monsters, Inc. (2001)   \n",
       "4896        5.0  Harry Potter and the Sorcerer's Stone (a.k.a. ...   \n",
       "7153        5.0  Lord of the Rings: The Return of the King, The...   \n",
       "1           5.0                                   Toy Story (1995)   \n",
       "\n",
       "                                              genres  \n",
       "movieId                                               \n",
       "55247                         Action|Adventure|Drama  \n",
       "356                         Comedy|Drama|Romance|War  \n",
       "4886     Adventure|Animation|Children|Comedy|Fantasy  \n",
       "4896                      Adventure|Children|Fantasy  \n",
       "7153                  Action|Adventure|Drama|Fantasy  \n",
       "1        Adventure|Animation|Children|Comedy|Fantasy  "
      ]
     },
     "execution_count": 24,
     "metadata": {},
     "output_type": "execute_result"
    }
   ],
   "source": [
    "#\n",
    "user_rating(611).join(movies_ids)"
   ]
  },
  {
   "cell_type": "code",
   "execution_count": null,
   "id": "3b62cfc3-1bba-4665-9290-94dfdd404ac2",
   "metadata": {},
   "outputs": [],
   "source": []
  },
  {
   "cell_type": "code",
   "execution_count": 25,
   "id": "8e249cf1-c0f9-4ce1-b61c-4bfd87eddb2e",
   "metadata": {},
   "outputs": [
    {
     "name": "stdout",
     "output_type": "stream",
     "text": [
      "The users_id most near from the user 611 is Int64Index([382, 169, 220, 330, 239, 483, 7, 534, 263, 288], dtype='int64', name='UserId_compared'), Distance = UserId_compared\n",
      "382    0.866025\n",
      "169    0.866025\n",
      "220    1.118034\n",
      "330    1.500000\n",
      "239    1.500000\n",
      "483    1.581139\n",
      "7      1.802776\n",
      "534    1.870829\n",
      "263    1.870829\n",
      "288    1.936492\n",
      "Name: Distance, dtype: float64\n"
     ]
    },
    {
     "data": {
      "text/html": [
       "<div>\n",
       "<style scoped>\n",
       "    .dataframe tbody tr th:only-of-type {\n",
       "        vertical-align: middle;\n",
       "    }\n",
       "\n",
       "    .dataframe tbody tr th {\n",
       "        vertical-align: top;\n",
       "    }\n",
       "\n",
       "    .dataframe thead th {\n",
       "        text-align: right;\n",
       "    }\n",
       "</style>\n",
       "<table border=\"1\" class=\"dataframe\">\n",
       "  <thead>\n",
       "    <tr style=\"text-align: right;\">\n",
       "      <th></th>\n",
       "      <th>rating_means</th>\n",
       "      <th>rating_counts</th>\n",
       "      <th>title</th>\n",
       "      <th>genres</th>\n",
       "    </tr>\n",
       "    <tr>\n",
       "      <th>movieId</th>\n",
       "      <th></th>\n",
       "      <th></th>\n",
       "      <th></th>\n",
       "      <th></th>\n",
       "    </tr>\n",
       "  </thead>\n",
       "  <tbody>\n",
       "    <tr>\n",
       "      <th>527</th>\n",
       "      <td>5.0000</td>\n",
       "      <td>5</td>\n",
       "      <td>Schindler's List (1993)</td>\n",
       "      <td>Drama|War</td>\n",
       "    </tr>\n",
       "    <tr>\n",
       "      <th>318</th>\n",
       "      <td>4.9375</td>\n",
       "      <td>8</td>\n",
       "      <td>Shawshank Redemption, The (1994)</td>\n",
       "      <td>Crime|Drama</td>\n",
       "    </tr>\n",
       "    <tr>\n",
       "      <th>32</th>\n",
       "      <td>4.9000</td>\n",
       "      <td>5</td>\n",
       "      <td>Twelve Monkeys (a.k.a. 12 Monkeys) (1995)</td>\n",
       "      <td>Mystery|Sci-Fi|Thriller</td>\n",
       "    </tr>\n",
       "    <tr>\n",
       "      <th>260</th>\n",
       "      <td>4.7500</td>\n",
       "      <td>8</td>\n",
       "      <td>Star Wars: Episode IV - A New Hope (1977)</td>\n",
       "      <td>Action|Adventure|Sci-Fi</td>\n",
       "    </tr>\n",
       "    <tr>\n",
       "      <th>356</th>\n",
       "      <td>4.7500</td>\n",
       "      <td>10</td>\n",
       "      <td>Forrest Gump (1994)</td>\n",
       "      <td>Comedy|Drama|Romance|War</td>\n",
       "    </tr>\n",
       "  </tbody>\n",
       "</table>\n",
       "</div>"
      ],
      "text/plain": [
       "         rating_means  rating_counts  \\\n",
       "movieId                                \n",
       "527            5.0000              5   \n",
       "318            4.9375              8   \n",
       "32             4.9000              5   \n",
       "260            4.7500              8   \n",
       "356            4.7500             10   \n",
       "\n",
       "                                             title                    genres  \n",
       "movieId                                                                       \n",
       "527                        Schindler's List (1993)                 Drama|War  \n",
       "318               Shawshank Redemption, The (1994)               Crime|Drama  \n",
       "32       Twelve Monkeys (a.k.a. 12 Monkeys) (1995)   Mystery|Sci-Fi|Thriller  \n",
       "260      Star Wars: Episode IV - A New Hope (1977)   Action|Adventure|Sci-Fi  \n",
       "356                            Forrest Gump (1994)  Comedy|Drama|Romance|War  "
      ]
     },
     "execution_count": 25,
     "metadata": {},
     "output_type": "execute_result"
    }
   ],
   "source": [
    "suggested_moviesv02(611)"
   ]
  },
  {
   "cell_type": "code",
   "execution_count": 26,
   "id": "f4196ad7-0a98-4d46-9c8f-69f2c7a6bceb",
   "metadata": {},
   "outputs": [
    {
     "name": "stdout",
     "output_type": "stream",
     "text": [
      "         rating\n",
      "movieId        \n",
      "1198        5.0\n",
      "1204        5.0\n",
      "924         5.0\n",
      "2529        5.0\n",
      "1193        5.0\n",
      "1136        5.0\n",
      "235         5.0\n",
      "1097        5.0\n",
      "2804        5.0\n",
      "527         5.0\n",
      "1080        5.0\n",
      "260         5.0\n",
      "1079        5.0\n",
      "3037        5.0\n",
      "296         5.0\n",
      "3100        5.0\n",
      "318         5.0\n",
      "3108        5.0\n",
      "3198        5.0\n",
      "1023        5.0\n",
      "3363        5.0\n",
      "356         5.0\n",
      "3421        5.0\n",
      "5060        5.0\n",
      "590         5.0\n",
      "593         5.0\n",
      "1291        5.0\n",
      "1732        5.0\n",
      "32          5.0\n",
      "57669       5.0\n"
     ]
    }
   ],
   "source": [
    "print(user_rating(288).sort_values('rating',ascending = False).head(30))"
   ]
  },
  {
   "cell_type": "code",
   "execution_count": 27,
   "id": "8ad6cd1a-c866-458e-8a12-b9f7c0ab403c",
   "metadata": {},
   "outputs": [],
   "source": [
    "Thamiris_filmes=([\n",
    "[318,5], #um sonho de liberdade\n",
    "[4993,5], #Um amor para recordar\n",
    "[5066,5], #Senhor dos aneis\n",
    "[134853,5], #Divertidamente\n",
    "[4886,4],#Texas Chainsaw Massacre:\n",
    "[53125,3], #piratas do caribe\n",
    "])"
   ]
  },
  {
   "cell_type": "code",
   "execution_count": 28,
   "id": "1daee5b9-8069-41b8-9b7b-cfa9c106568e",
   "metadata": {},
   "outputs": [
    {
     "name": "stdout",
     "output_type": "stream",
     "text": [
      "The new user ID is: 612 \n"
     ]
    }
   ],
   "source": [
    "ratings = new_user(Thamiris_filmes)"
   ]
  },
  {
   "cell_type": "code",
   "execution_count": 29,
   "id": "eb2f63ac-a7dc-42d2-b3c4-9a9a1c7d9c6c",
   "metadata": {},
   "outputs": [
    {
     "name": "stdout",
     "output_type": "stream",
     "text": [
      "Recomendation for the user 612\n",
      "The users_id most near from the user 612 is Int64Index([249, 63, 414, 18, 339, 105, 380, 103, 610, 177], dtype='int64', name='UserId_compared'), Distance = UserId_compared\n",
      "249    0.866025\n",
      "63     1.224745\n",
      "414    1.500000\n",
      "18     1.658312\n",
      "339    1.870829\n",
      "105    2.121320\n",
      "380    2.236068\n",
      "103    2.397916\n",
      "610    2.549510\n",
      "177    3.535534\n",
      "Name: Distance, dtype: float64\n"
     ]
    },
    {
     "data": {
      "text/html": [
       "<div>\n",
       "<style scoped>\n",
       "    .dataframe tbody tr th:only-of-type {\n",
       "        vertical-align: middle;\n",
       "    }\n",
       "\n",
       "    .dataframe tbody tr th {\n",
       "        vertical-align: top;\n",
       "    }\n",
       "\n",
       "    .dataframe thead th {\n",
       "        text-align: right;\n",
       "    }\n",
       "</style>\n",
       "<table border=\"1\" class=\"dataframe\">\n",
       "  <thead>\n",
       "    <tr style=\"text-align: right;\">\n",
       "      <th></th>\n",
       "      <th>rating_means</th>\n",
       "      <th>rating_counts</th>\n",
       "      <th>title</th>\n",
       "      <th>genres</th>\n",
       "    </tr>\n",
       "    <tr>\n",
       "      <th>movieId</th>\n",
       "      <th></th>\n",
       "      <th></th>\n",
       "      <th></th>\n",
       "      <th></th>\n",
       "    </tr>\n",
       "  </thead>\n",
       "  <tbody>\n",
       "    <tr>\n",
       "      <th>1136</th>\n",
       "      <td>4.833333</td>\n",
       "      <td>6</td>\n",
       "      <td>Monty Python and the Holy Grail (1975)</td>\n",
       "      <td>Adventure|Comedy|Fantasy</td>\n",
       "    </tr>\n",
       "    <tr>\n",
       "      <th>1201</th>\n",
       "      <td>4.750000</td>\n",
       "      <td>8</td>\n",
       "      <td>Good, the Bad and the Ugly, The (Buono, il bru...</td>\n",
       "      <td>Action|Adventure|Western</td>\n",
       "    </tr>\n",
       "    <tr>\n",
       "      <th>1080</th>\n",
       "      <td>4.750000</td>\n",
       "      <td>6</td>\n",
       "      <td>Monty Python's Life of Brian (1979)</td>\n",
       "      <td>Comedy</td>\n",
       "    </tr>\n",
       "    <tr>\n",
       "      <th>293</th>\n",
       "      <td>4.714286</td>\n",
       "      <td>7</td>\n",
       "      <td>Léon: The Professional (a.k.a. The Professiona...</td>\n",
       "      <td>Action|Crime|Drama|Thriller</td>\n",
       "    </tr>\n",
       "    <tr>\n",
       "      <th>74458</th>\n",
       "      <td>4.714286</td>\n",
       "      <td>7</td>\n",
       "      <td>Shutter Island (2010)</td>\n",
       "      <td>Drama|Mystery|Thriller</td>\n",
       "    </tr>\n",
       "  </tbody>\n",
       "</table>\n",
       "</div>"
      ],
      "text/plain": [
       "         rating_means  rating_counts  \\\n",
       "movieId                                \n",
       "1136         4.833333              6   \n",
       "1201         4.750000              8   \n",
       "1080         4.750000              6   \n",
       "293          4.714286              7   \n",
       "74458        4.714286              7   \n",
       "\n",
       "                                                     title  \\\n",
       "movieId                                                      \n",
       "1136                Monty Python and the Holy Grail (1975)   \n",
       "1201     Good, the Bad and the Ugly, The (Buono, il bru...   \n",
       "1080                   Monty Python's Life of Brian (1979)   \n",
       "293      Léon: The Professional (a.k.a. The Professiona...   \n",
       "74458                                Shutter Island (2010)   \n",
       "\n",
       "                              genres  \n",
       "movieId                               \n",
       "1136        Adventure|Comedy|Fantasy  \n",
       "1201        Action|Adventure|Western  \n",
       "1080                          Comedy  \n",
       "293      Action|Crime|Drama|Thriller  \n",
       "74458         Drama|Mystery|Thriller  "
      ]
     },
     "execution_count": 29,
     "metadata": {},
     "output_type": "execute_result"
    }
   ],
   "source": [
    "print(f'Recomendation for the user {ratings.userId.max()}')\n",
    "suggested_moviesv02(ratings.userId.max())"
   ]
  },
  {
   "cell_type": "code",
   "execution_count": null,
   "id": "ffe0502b-5354-410a-830c-cb40ee0102de",
   "metadata": {},
   "outputs": [],
   "source": []
  },
  {
   "cell_type": "code",
   "execution_count": null,
   "id": "fbf2586e-fc3e-494c-8ff5-cae20f0c6eb1",
   "metadata": {},
   "outputs": [],
   "source": []
  }
 ],
 "metadata": {
  "kernelspec": {
   "display_name": "Python 3",
   "language": "python",
   "name": "python3"
  },
  "language_info": {
   "codemirror_mode": {
    "name": "ipython",
    "version": 3
   },
   "file_extension": ".py",
   "mimetype": "text/x-python",
   "name": "python",
   "nbconvert_exporter": "python",
   "pygments_lexer": "ipython3",
   "version": "3.8.8"
  }
 },
 "nbformat": 4,
 "nbformat_minor": 5
}
